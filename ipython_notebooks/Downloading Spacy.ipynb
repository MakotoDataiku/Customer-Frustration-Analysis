{
 "cells": [
  {
   "cell_type": "code",
   "execution_count": 2,
   "metadata": {},
   "outputs": [
    {
     "name": "stdout",
     "output_type": "stream",
     "text": [
      "Populating the interactive namespace from numpy and matplotlib\n"
     ]
    }
   ],
   "source": [
    "%pylab inline"
   ]
  },
  {
   "cell_type": "code",
   "execution_count": 3,
   "metadata": {},
   "outputs": [],
   "source": [
    "import dataiku\n",
    "from dataiku import pandasutils as pdu\n",
    "import pandas as pd\n",
    "import spacy\n",
    "import sputnik"
   ]
  },
  {
   "cell_type": "code",
   "execution_count": 8,
   "metadata": {},
   "outputs": [
    {
     "data": {
      "text/plain": [
       "'/Users/mmiyazaki/dataiku/Design/DATA_DIR/managed_folders/ANALYSISOFCUSTOMERFRUSTRATIONSINAIRLINEINDUSTRIES/ohIeiZCM'"
      ]
     },
     "execution_count": 8,
     "metadata": {},
     "output_type": "execute_result"
    }
   ],
   "source": [
    "spacy_model_folder = dataiku.Folder(\"spacy_model\")\n",
    "folder_path = spacy_model_folder.get_path()\n",
    "folder_path"
   ]
  },
  {
   "cell_type": "code",
   "execution_count": 15,
   "metadata": {},
   "outputs": [],
   "source": [
    "# sputnik.install('spacy', spacy.about.__version__, 'en_core_web_lg', data_path=folder_path)"
   ]
  },
  {
   "cell_type": "code",
   "execution_count": 16,
   "metadata": {},
   "outputs": [],
   "source": [
    "# sputnik.install('spacy', spacy.about.__version__, 'en_default', data_path=folder_path)"
   ]
  },
  {
   "cell_type": "code",
   "execution_count": 14,
   "metadata": {},
   "outputs": [
    {
     "name": "stdout",
     "output_type": "stream",
     "text": [
      "Collecting https://github.com/explosion/spacy-models/releases/download/en_core_web_lg-2.2.5/en_core_web_lg-2.2.5.tar.gz\n",
      "  Downloading https://github.com/explosion/spacy-models/releases/download/en_core_web_lg-2.2.5/en_core_web_lg-2.2.5.tar.gz (827.9 MB)\n",
      "\u001b[K     |████████████████████████████████| 827.9 MB 13 kB/s  eta 0:00:013  |▏                               | 4.4 MB 432 kB/s eta 0:31:45     |█▊                              | 45.7 MB 218 kB/s eta 0:59:36     |███                             | 76.8 MB 264 kB/s eta 0:47:22     |███▍                            | 88.3 MB 322 kB/s eta 0:38:15     |█████▊                          | 146.6 MB 393 kB/s eta 0:28:53     |██████▉                         | 177.6 MB 743 kB/s eta 0:14:35     |█████████▎                      | 239.3 MB 478 kB/s eta 0:20:30     |█████████▌                      | 247.2 MB 1.1 MB/s eta 0:08:54     |██████████                      | 260.3 MB 797 kB/s eta 0:11:52     |████████████▎                   | 316.4 MB 2.0 MB/s eta 0:04:22     |████████████▊                   | 329.1 MB 1.2 MB/s eta 0:07:08     |█████████████▌                  | 349.1 MB 2.7 MB/s eta 0:02:59     |█████████████████▍              | 450.7 MB 3.3 MB/s eta 0:01:53     |█████████████████▉              | 461.9 MB 1.4 MB/s eta 0:04:27     |██████████████████▋             | 482.8 MB 893 kB/s eta 0:06:27     |███████████████████             | 490.6 MB 2.3 MB/s eta 0:02:25     |███████████████████▊            | 509.7 MB 1.4 MB/s eta 0:03:41     |██████████████████████          | 568.1 MB 1.1 MB/s eta 0:03:47     |██████████████████████▌         | 582.0 MB 8.2 MB/s eta 0:00:31     |███████████████████████         | 593.3 MB 1.4 MB/s eta 0:02:44     |████████████████████████▊       | 640.8 MB 3.4 MB/s eta 0:00:55     |██████████████████████████▌     | 686.8 MB 718 kB/s eta 0:03:17     |████████████████████████████▌   | 737.4 MB 3.5 MB/s eta 0:00:26     |██████████████████████████████▊ | 794.1 MB 2.1 MB/s eta 0:00:17\n",
      "\u001b[?25hRequirement already satisfied (use --upgrade to upgrade): en-core-web-lg==2.2.5 from https://github.com/explosion/spacy-models/releases/download/en_core_web_lg-2.2.5/en_core_web_lg-2.2.5.tar.gz in /Library/Frameworks/Python.framework/Versions/3.6/lib/python3.6/site-packages\n",
      "Requirement already satisfied: spacy>=2.2.2 in /Library/Frameworks/Python.framework/Versions/3.6/lib/python3.6/site-packages (from en-core-web-lg==2.2.5) (2.2.3)\n",
      "Requirement already satisfied: catalogue<1.1.0,>=0.0.7 in /Library/Frameworks/Python.framework/Versions/3.6/lib/python3.6/site-packages (from spacy>=2.2.2->en-core-web-lg==2.2.5) (1.0.0)\n",
      "Requirement already satisfied: murmurhash<1.1.0,>=0.28.0 in /Library/Frameworks/Python.framework/Versions/3.6/lib/python3.6/site-packages (from spacy>=2.2.2->en-core-web-lg==2.2.5) (1.0.2)\n",
      "Requirement already satisfied: preshed<3.1.0,>=3.0.2 in /Library/Frameworks/Python.framework/Versions/3.6/lib/python3.6/site-packages (from spacy>=2.2.2->en-core-web-lg==2.2.5) (3.0.2)\n",
      "Requirement already satisfied: plac<1.2.0,>=0.9.6 in /Library/Frameworks/Python.framework/Versions/3.6/lib/python3.6/site-packages (from spacy>=2.2.2->en-core-web-lg==2.2.5) (1.1.3)\n",
      "Requirement already satisfied: srsly<1.1.0,>=0.1.0 in /Library/Frameworks/Python.framework/Versions/3.6/lib/python3.6/site-packages (from spacy>=2.2.2->en-core-web-lg==2.2.5) (1.0.2)\n",
      "Requirement already satisfied: wasabi<1.1.0,>=0.4.0 in /Library/Frameworks/Python.framework/Versions/3.6/lib/python3.6/site-packages (from spacy>=2.2.2->en-core-web-lg==2.2.5) (0.6.0)\n",
      "Requirement already satisfied: requests<3.0.0,>=2.13.0 in /Library/Frameworks/Python.framework/Versions/3.6/lib/python3.6/site-packages (from spacy>=2.2.2->en-core-web-lg==2.2.5) (2.23.0)\n",
      "Requirement already satisfied: thinc<7.4.0,>=7.3.0 in /Library/Frameworks/Python.framework/Versions/3.6/lib/python3.6/site-packages (from spacy>=2.2.2->en-core-web-lg==2.2.5) (7.3.1)\n",
      "Requirement already satisfied: cymem<2.1.0,>=2.0.2 in /Library/Frameworks/Python.framework/Versions/3.6/lib/python3.6/site-packages (from spacy>=2.2.2->en-core-web-lg==2.2.5) (2.0.3)\n",
      "Requirement already satisfied: setuptools in /Library/Frameworks/Python.framework/Versions/3.6/lib/python3.6/site-packages (from spacy>=2.2.2->en-core-web-lg==2.2.5) (40.6.2)\n",
      "Requirement already satisfied: blis<0.5.0,>=0.4.0 in /Library/Frameworks/Python.framework/Versions/3.6/lib/python3.6/site-packages (from spacy>=2.2.2->en-core-web-lg==2.2.5) (0.4.1)\n",
      "Requirement already satisfied: numpy>=1.15.0 in /Library/Frameworks/Python.framework/Versions/3.6/lib/python3.6/site-packages (from spacy>=2.2.2->en-core-web-lg==2.2.5) (1.18.1)\n",
      "Requirement already satisfied: importlib-metadata>=0.20; python_version < \"3.8\" in /Library/Frameworks/Python.framework/Versions/3.6/lib/python3.6/site-packages (from catalogue<1.1.0,>=0.0.7->spacy>=2.2.2->en-core-web-lg==2.2.5) (1.5.0)\n",
      "Requirement already satisfied: chardet<4,>=3.0.2 in /Library/Frameworks/Python.framework/Versions/3.6/lib/python3.6/site-packages (from requests<3.0.0,>=2.13.0->spacy>=2.2.2->en-core-web-lg==2.2.5) (3.0.4)\n",
      "Requirement already satisfied: idna<3,>=2.5 in /Library/Frameworks/Python.framework/Versions/3.6/lib/python3.6/site-packages (from requests<3.0.0,>=2.13.0->spacy>=2.2.2->en-core-web-lg==2.2.5) (2.9)\n",
      "Requirement already satisfied: certifi>=2017.4.17 in /Library/Frameworks/Python.framework/Versions/3.6/lib/python3.6/site-packages (from requests<3.0.0,>=2.13.0->spacy>=2.2.2->en-core-web-lg==2.2.5) (2019.11.28)\n",
      "Requirement already satisfied: urllib3!=1.25.0,!=1.25.1,<1.26,>=1.21.1 in /Library/Frameworks/Python.framework/Versions/3.6/lib/python3.6/site-packages (from requests<3.0.0,>=2.13.0->spacy>=2.2.2->en-core-web-lg==2.2.5) (1.25.8)\n",
      "Requirement already satisfied: tqdm<5.0.0,>=4.10.0 in /Library/Frameworks/Python.framework/Versions/3.6/lib/python3.6/site-packages (from thinc<7.4.0,>=7.3.0->spacy>=2.2.2->en-core-web-lg==2.2.5) (4.43.0)\n",
      "Requirement already satisfied: zipp>=0.5 in /Library/Frameworks/Python.framework/Versions/3.6/lib/python3.6/site-packages (from importlib-metadata>=0.20; python_version < \"3.8\"->catalogue<1.1.0,>=0.0.7->spacy>=2.2.2->en-core-web-lg==2.2.5) (3.1.0)\n"
     ]
    }
   ],
   "source": [
    "# ! pip install https://github.com/explosion/spacy-models/releases/download/en_core_web_lg-2.2.5/en_core_web_lg-2.2.5.tar.gz"
   ]
  },
  {
   "cell_type": "code",
   "execution_count": 21,
   "metadata": {},
   "outputs": [
    {
     "data": {
      "text/plain": [
       "<spacy.lang.en.English at 0x11d1d97f0>"
      ]
     },
     "execution_count": 21,
     "metadata": {},
     "output_type": "execute_result"
    }
   ],
   "source": [
    "# model_path = \"/Library/Frameworks/Python.framework/Versions/3.6/lib/python3.6/site-packages/en_core_web_lg/en_core_web_lg-2.2.5\"\n",
    "# spacy.load(model_path)"
   ]
  },
  {
   "cell_type": "code",
   "execution_count": 35,
   "metadata": {},
   "outputs": [
    {
     "name": "stdout",
     "output_type": "stream",
     "text": [
      " -- pip install --upgrade certifi\n",
      "Requirement already up-to-date: certifi in /Library/Frameworks/Python.framework/Versions/3.6/lib/python3.6/site-packages (2019.11.28)\n",
      " -- removing any existing file or link\n",
      " -- creating symlink to certifi certificate bundle\n",
      " -- setting permissions\n",
      " -- update complete\n"
     ]
    }
   ],
   "source": [
    "# ! bash /Applications/Python\\ 3.6/Install\\ Certificates.command"
   ]
  },
  {
   "cell_type": "code",
   "execution_count": 37,
   "metadata": {
    "scrolled": true
   },
   "outputs": [
    {
     "name": "stderr",
     "output_type": "stream",
     "text": [
      "[nltk_data] Downloading package vader_lexicon to\n",
      "[nltk_data]     /Users/mmiyazaki/nltk_data...\n",
      "[nltk_data]   Package vader_lexicon is already up-to-date!\n"
     ]
    },
    {
     "data": {
      "text/plain": [
       "True"
      ]
     },
     "execution_count": 37,
     "metadata": {},
     "output_type": "execute_result"
    }
   ],
   "source": [
    "import nltk\n",
    "nltk.download('vader_lexicon')"
   ]
  },
  {
   "cell_type": "code",
   "execution_count": 36,
   "metadata": {},
   "outputs": [
    {
     "name": "stderr",
     "output_type": "stream",
     "text": [
      "[nltk_data] Downloading package wordnet to\n",
      "[nltk_data]     /Users/mmiyazaki/nltk_data...\n",
      "[nltk_data]   Package wordnet is already up-to-date!\n"
     ]
    },
    {
     "data": {
      "text/plain": [
       "True"
      ]
     },
     "execution_count": 36,
     "metadata": {},
     "output_type": "execute_result"
    }
   ],
   "source": [
    "nltk.download('wordnet')"
   ]
  },
  {
   "cell_type": "code",
   "execution_count": null,
   "metadata": {},
   "outputs": [],
   "source": []
  }
 ],
 "metadata": {
  "creator": "admin",
  "customFields": {},
  "kernelspec": {
   "display_name": "Python (env python36)",
   "language": "python",
   "name": "py-dku-venv-python36"
  },
  "tags": []
 },
 "nbformat": 4,
 "nbformat_minor": 1
}
