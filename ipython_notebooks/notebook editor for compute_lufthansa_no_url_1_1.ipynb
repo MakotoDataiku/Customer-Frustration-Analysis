{
  "metadata": {
    "creator": "admin",
    "customFields": {},
    "kernelspec": {
      "display_name": "Python (env python36)",
      "language": "python",
      "name": "py-dku-venv-python36"
    },
    "language_info": {
      "codemirror_mode": {
        "name": "ipython",
        "version": 3
      },
      "file_extension": ".py",
      "mimetype": "text/x-python",
      "name": "python",
      "nbconvert_exporter": "python",
      "pygments_lexer": "ipython3",
      "version": "3.6.8"
    },
    "tags": [
      "deleted-recipe-editor"
    ]
  },
  "nbformat": 4,
  "nbformat_minor": 1,
  "cells": [
    {
      "execution_count": 8,
      "cell_type": "code",
      "metadata": {},
      "source": [
        "# -*- coding: utf-8 -*-\n",
        "import dataiku\n",
        "import pandas as pd, numpy as np\n",
        "from dataiku import pandasutils as pdu\n",
        "import re\n",
        "\n",
        "# Read recipe inputs\n",
        "tweets_prep \u003d dataiku.Dataset(\"tweepy_prep\")\n",
        "df \u003d tweets_prep.get_dataframe()"
      ],
      "outputs": []
    },
    {
      "execution_count": 4,
      "cell_type": "code",
      "metadata": {},
      "source": [
        "# tweet_lufthansa_prepared_df[\u0027text_noURL\u0027] \u003d tweet_lufthansa_prepared_df.apply\\\n",
        "#(lambda row : row[\u0027text\u0027].replace(str(row[\u0027links\u0027]), \u0027 \u0027), axis\u003d1)"
      ],
      "outputs": []
    },
    {
      "execution_count": 5,
      "cell_type": "code",
      "metadata": {},
      "source": [
        "def URLremover(text):\n",
        "    text \u003d re.sub(r\u0027https?://\\S+\u0027, \u0027\u0027, text)\n",
        "    text \u003d re.sub(r\u0027twitter\\.com\\S+\u0027, \u0027\u0027, text)\n",
        "    return text"
      ],
      "outputs": []
    },
    {
      "execution_count": 0,
      "cell_type": "code",
      "metadata": {},
      "source": [
        "df[\u0027text\u0027] \u003d df.text.apply(URLremover)"
      ],
      "outputs": []
    },
    {
      "execution_count": 0,
      "cell_type": "code",
      "metadata": {},
      "source": [
        "# Compute recipe outputs from inputs\n",
        "# TODO: Replace this part by your actual code that computes the output, as a Pandas dataframe\n",
        "# NB: DSS also supports other kinds of APIs for reading and writing data. Please see doc.\n",
        "\n",
        "tweets_noURL_df \u003d df # For this sample code, simply copy input to output\n",
        "\n",
        "\n",
        "# Write recipe outputs\n",
        "tweets_noURL \u003d dataiku.Dataset(\"tweepy_noURL\")\n",
        "tweets_noURL.write_with_schema(tweets_noURL_df)"
      ],
      "outputs": []
    }
  ]
}