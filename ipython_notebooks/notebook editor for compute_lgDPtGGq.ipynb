{
 "cells": [
  {
   "cell_type": "code",
   "execution_count": 1,
   "metadata": {},
   "outputs": [],
   "source": [
    "# -*- coding: utf-8 -*-\n",
    "import dataiku\n",
    "from dataiku import pandasutils as pdu\n",
    "import ast"
   ]
  },
  {
   "cell_type": "code",
   "execution_count": 2,
   "metadata": {},
   "outputs": [],
   "source": [
    "#!home/ec2-user/miniconda3/bin/python3.7\n",
    "import os\n",
    "import sys\n",
    "import spacy\n",
    "import pandas as pd"
   ]
  },
  {
   "cell_type": "code",
   "execution_count": 3,
   "metadata": {},
   "outputs": [],
   "source": [
    "from time import time\n",
    "import json\n",
    "import requests\n",
    "import nltk\n",
    "from nltk.sentiment.vader import SentimentIntensityAnalyzer"
   ]
  },
  {
   "cell_type": "code",
   "execution_count": 4,
   "metadata": {},
   "outputs": [],
   "source": [
    "from aspect_extraction.aspect_extraction import aspect_extraction\n",
    "import mapper\n",
    "from run_extraction.init_spacy import init_spacy\n",
    "from run_extraction.init_nltk import init_nltk"
   ]
  },
  {
   "cell_type": "code",
   "execution_count": 5,
   "metadata": {},
   "outputs": [],
   "source": [
    "# Read recipe inputs\n",
    "tweets_noURL = dataiku.Dataset(\"tweets_noURL\")\n",
    "tweets_noURL_df = tweets_noURL.get_dataframe()"
   ]
  },
  {
   "cell_type": "code",
   "execution_count": 6,
   "metadata": {},
   "outputs": [],
   "source": [
    "def main(arg, text_column, review_id, product_id, data, folder_path):\n",
    "    model_path= dataiku.get_custom_variables()['model_path']\n",
    "    time1 = time()\n",
    "    nlp = init_spacy(model_path)\n",
    "    sid = init_nltk()\n",
    "    time2 = time()\n",
    "    print(\"----------------***----------------\")\n",
    "    print(\"\\nExtracting aspect pairs\")\n",
    "    aspect_extraction(nlp, sid, arg, data, \n",
    "                                        text_column = text_column, \n",
    "                                        review_id = review_id, \n",
    "                                        product_id = product_id,\n",
    "                                       folder_path = folder_path)\n",
    "    print(\"Finished running aspect extraction!!\\n\")\n",
    "\n",
    "    # json_data = json.dumps(reviews_data)\n",
    "    # with open('data.json', 'w') as outfile:\n",
    "    #     f.write(json_data)\n",
    "\n",
    "    # print(\"----------------***----------------\")\n",
    "    # time3 = time()\n",
    "    # aspect_clustering.update_reviews_data(reviews_data, nlp)\n",
    "    time4 = time()\n",
    "    print(\"Time for spacy loading: {0:.2}s\".format(time2-time1))\n",
    "    # print(\"Time for aspect extraction: {0:.2}s\".format(time3-time2))\n",
    "    print(\"Time for EVERYTHING: {0:.2}s\".format(time4-time1))\n",
    "    print(\"Running mapper\")\n",
    "    \n",
    "    file_in = folder_path + \"/reviews_aspect_raw.json\"\n",
    "    file_out = folder_path + \"/reviews_aspect_mapping.json\"\n",
    "    mapper.map(file_in, file_out)\n",
    "\n",
    "    print(\"Godspeed!\")"
   ]
  },
  {
   "cell_type": "code",
   "execution_count": 7,
   "metadata": {},
   "outputs": [],
   "source": [
    "# Write recipe outputs\n",
    "aspect_sentiment_pairs = dataiku.Folder(\"aspect_sentiment_pairs\")"
   ]
  },
  {
   "cell_type": "code",
   "execution_count": 8,
   "metadata": {},
   "outputs": [],
   "source": [
    "folder_path = aspect_sentiment_pairs.get_path()"
   ]
  },
  {
   "cell_type": "code",
   "execution_count": 9,
   "metadata": {},
   "outputs": [
    {
     "name": "stdout",
     "output_type": "stream",
     "text": [
      "\n",
      "Loading spaCy Model....\n",
      "spaCy successfully loaded\n",
      "\n",
      "Loading NLTK....\n",
      "NLTK successfully loaded\n",
      "----------------***----------------\n",
      "\n",
      "Extracting aspect pairs\n",
      "******Cleaning Started*****\n",
      "Shape of df before cleaning : (21712, 22)\n",
      "Shape of df after cleaning : (21712, 22)\n",
      "******Cleaning Ended*****\n",
      "Entering Apply function!\n",
      "Finished running aspect extraction!!\n",
      "\n",
      "Time for spacy loading: 9.5s\n",
      "Time for EVERYTHING: 2.4e+02s\n",
      "Running mapper\n",
      "6\n",
      "21712\n",
      "Time for loads json: 0.11s\n",
      "Time for loads mapping: 0.023s\n",
      "Time for loads mapping: 0.57s\n",
      "Godspeed!\n"
     ]
    }
   ],
   "source": [
    "main(sys.argv[1], text_column = \"text\", review_id = 'tweet_id', \n",
    "     product_id = 'company', data = tweets_noURL_df, folder_path = folder_path)"
   ]
  },
  {
   "cell_type": "code",
   "execution_count": null,
   "metadata": {},
   "outputs": [],
   "source": []
  }
 ],
 "metadata": {
  "associatedRecipe": "compute_lgDPtGGq",
  "creator": "admin",
  "customFields": {},
  "kernelspec": {
   "display_name": "Python (env python36)",
   "language": "python",
   "name": "py-dku-venv-python36"
  },
  "language_info": {
   "codemirror_mode": {
    "name": "ipython",
    "version": 3
   },
   "file_extension": ".py",
   "mimetype": "text/x-python",
   "name": "python",
   "nbconvert_exporter": "python",
   "pygments_lexer": "ipython3",
   "version": "3.6.8"
  },
  "tags": [
   "recipe-editor"
  ]
 },
 "nbformat": 4,
 "nbformat_minor": 1
}
