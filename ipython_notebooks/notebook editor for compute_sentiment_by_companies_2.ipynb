{
 "cells": [
  {
   "cell_type": "code",
   "execution_count": 2,
   "metadata": {},
   "outputs": [],
   "source": [
    "# -*- coding: utf-8 -*-\n",
    "import dataiku\n",
    "import pandas as pd, numpy as np\n",
    "from dataiku import pandasutils as pdu"
   ]
  },
  {
   "cell_type": "code",
   "execution_count": 37,
   "metadata": {},
   "outputs": [],
   "source": [
    "import plotly\n",
    "import plotly.express as px\n",
    "import plotly.offline as py\n",
    "import plotly.graph_objs as go\n",
    "import os"
   ]
  },
  {
   "cell_type": "code",
   "execution_count": 38,
   "metadata": {},
   "outputs": [],
   "source": [
    "# Read recipe inputs\n",
    "aspects_grouped = dataiku.Dataset(\"aspect_sentiment_categorised\")\n",
    "df = aspects_grouped.get_dataframe()"
   ]
  },
  {
   "cell_type": "code",
   "execution_count": 39,
   "metadata": {},
   "outputs": [],
   "source": [
    "def weighted_ave(x):\n",
    "    d = {}\n",
    "    d['weighted_ave_nltk'] = (x[\"mean_polarity_nltk\"] * x[\"count\"]).sum() / x[\"count\"].sum()\n",
    "    d['weighted_ave_tb'] = (x[\"mean_polarity_textblob\"] * x[\"count\"]).sum() / x[\"count\"].sum()\n",
    "    return pd.Series(d, index=['weighted_ave_nltk', 'weighted_ave_tb'])"
   ]
  },
  {
   "cell_type": "code",
   "execution_count": 40,
   "metadata": {},
   "outputs": [],
   "source": [
    "df_grouped = df.groupby([\"product_id\", \"group\"]).apply(weighted_ave).reset_index()\n",
    "df_clustered = df.groupby([\"product_id\", \"k_means_clusters\"]).apply(weighted_ave).reset_index()"
   ]
  },
  {
   "cell_type": "code",
   "execution_count": 41,
   "metadata": {},
   "outputs": [],
   "source": [
    "# Compute recipe outputs from inputs\n",
    "# TODO: Replace this part by your actual code that computes the output, as a Pandas dataframe\n",
    "# NB: DSS also supports other kinds of APIs for reading and writing data. Please see doc.\n",
    "\n",
    "sentiment_by_companies_df = df_grouped # For this sample code, simply copy input to output"
   ]
  },
  {
   "cell_type": "code",
   "execution_count": 42,
   "metadata": {},
   "outputs": [
    {
     "name": "stdout",
     "output_type": "stream",
     "text": [
      "29 rows successfully written (ZBFB4c6ajz)\n",
      "24 rows successfully written (R7DxEZ530O)\n"
     ]
    }
   ],
   "source": [
    "# Write recipe outputs\n",
    "sentiment_by_companies = dataiku.Dataset(\"Cat_analysis_by_companies\")\n",
    "sentiment_by_companies.write_with_schema(df_grouped)\n",
    "\n",
    "KM_analysis_by_companies = dataiku.Dataset(\"KM_analysis_by_companies\")\n",
    "KM_analysis_by_companies.write_with_schema(df_clustered)"
   ]
  },
  {
   "cell_type": "code",
   "execution_count": 0,
   "metadata": {},
   "outputs": [],
   "source": [
    "from dataiku import insights\n",
    "for name in df_grouped.product_id.unique():\n",
    "    df_sub = df_grouped[df_grouped.product_id == name]\n",
    "    groups = df_sub.group.unique()\n",
    "    fig = go.Figure(data=[\n",
    "        go.Bar(name='NLTK', x=groups, y=df_sub.weighted_ave_nltk),\n",
    "        go.Bar(name='TextBlob', x=groups, y=df_sub.weighted_ave_tb)])\n",
    "    # Change the bar mode\n",
    "    fig.update_layout(barmode='group', title_text=name)\n",
    "\n",
    "    insights_name = name.replace(\" \", \"_\") + \"_grouped\"\n",
    "    folder_path = dataiku.Folder(\"plots\").get_path()\n",
    "    fig_path = os.path.join(folder_path, insights_name)\n",
    "    fig.write_html(fig_path+\".html\")\n",
    "    insights.save_plotly(insights_name, fig)"
   ]
  },
  {
   "cell_type": "code",
   "execution_count": 9,
   "metadata": {},
   "outputs": [],
   "source": [
    "PROJECT_KEY = dataiku.get_custom_variables()[\"projectKey\"]\n",
    "client = dataiku.api_client()\n",
    "p = client.get_project(PROJECT_KEY)\n",
    "var = p.get_variables()[\"standard\"]"
   ]
  },
  {
   "cell_type": "code",
   "execution_count": 6,
   "metadata": {},
   "outputs": [],
   "source": [
    "del var['exclude_stopwords']\n",
    "del var['prod_pronouns']\n",
    "del var['stopwords']\n",
    "del var['model_path']"
   ]
  },
  {
   "cell_type": "code",
   "execution_count": 10,
   "metadata": {},
   "outputs": [],
   "source": [
    "keys_to_extract = [\"company\", \"NUM_CLUSTERS\", \"n_days\"]\n",
    "\n",
    "a_subset = {key: var[key] for key in keys_to_extract}"
   ]
  },
  {
   "cell_type": "code",
   "execution_count": 11,
   "metadata": {},
   "outputs": [
    {
     "data": {
      "text/plain": [
       "{'company': ['Air France',\n",
       "  'Lufthansa',\n",
       "  'Ryanair',\n",
       "  'easyJet',\n",
       "  'United Airlines',\n",
       "  'Delta Air Lines'],\n",
       " 'NUM_CLUSTERS': 4,\n",
       " 'n_days': 2}"
      ]
     },
     "execution_count": 11,
     "metadata": {},
     "output_type": "execute_result"
    }
   ],
   "source": [
    "n_days = \"4\"\n",
    "n_days"
   ]
  },
  {
   "cell_type": "code",
   "execution_count": null,
   "metadata": {},
   "outputs": [],
   "source": []
  }
 ],
 "metadata": {
  "associatedRecipe": "compute_sentiment_by_companies_2",
  "creator": "admin",
  "customFields": {},
  "kernelspec": {
   "display_name": "Python (env python36)",
   "language": "python",
   "name": "py-dku-venv-python36"
  },
  "language_info": {
   "codemirror_mode": {
    "name": "ipython",
    "version": 3
   },
   "file_extension": ".py",
   "mimetype": "text/x-python",
   "name": "python",
   "nbconvert_exporter": "python",
   "pygments_lexer": "ipython3",
   "version": "3.6.8"
  },
  "tags": [
   "recipe-editor"
  ]
 },
 "nbformat": 4,
 "nbformat_minor": 1
}
