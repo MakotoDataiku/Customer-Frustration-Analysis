{
  "metadata": {
    "creator": "admin",
    "customFields": {},
    "kernelspec": {
      "display_name": "Python 2",
      "language": "python",
      "name": "python2"
    },
    "language_info": {
      "codemirror_mode": {
        "name": "ipython",
        "version": 2
      },
      "file_extension": ".py",
      "mimetype": "text/x-python",
      "name": "python",
      "nbconvert_exporter": "python",
      "pygments_lexer": "ipython2",
      "version": "2.7.16"
    },
    "tags": [
      "deleted-recipe-editor"
    ]
  },
  "nbformat": 4,
  "nbformat_minor": 1,
  "cells": [
    {
      "execution_count": 39,
      "cell_type": "code",
      "metadata": {},
      "source": [
        "# -*- coding: utf-8 -*-\n",
        "import dataiku\n",
        "import pandas as pd, numpy as np\n",
        "from dataiku import pandasutils as pdu\n",
        "import re\n",
        "\n",
        "# Read recipe inputs\n",
        "tweet_lufthansa_prepared \u003d dataiku.Dataset(\"tweet_lufthansa_prepared\")\n",
        "tweet_lufthansa_prepared_df \u003d tweet_lufthansa_prepared.get_dataframe()"
      ],
      "outputs": []
    },
    {
      "execution_count": 40,
      "cell_type": "code",
      "metadata": {},
      "source": [
        "# tweet_lufthansa_prepared_df[\u0027text_noURL\u0027] \u003d tweet_lufthansa_prepared_df.apply\\\n",
        "#(lambda row : row[\u0027text\u0027].replace(str(row[\u0027links\u0027]), \u0027 \u0027), axis\u003d1)"
      ],
      "outputs": []
    },
    {
      "execution_count": 43,
      "cell_type": "code",
      "metadata": {},
      "source": [
        "def URLremover(text):\n",
        "    text \u003d re.sub(r\u0027https?://\\S+\u0027, \u0027\u0027, text)\n",
        "    text \u003d re.sub(r\u0027twitter\\.com\\S+\u0027, \u0027\u0027, text)\n",
        "    return text"
      ],
      "outputs": []
    },
    {
      "execution_count": 44,
      "cell_type": "code",
      "metadata": {},
      "source": [
        "tweet_lufthansa_prepared_df[\u0027text\u0027] \u003d tweet_lufthansa_prepared_df.text.apply(URLremover)"
      ],
      "outputs": []
    },
    {
      "cell_type": "code",
      "metadata": {},
      "source": [
        "# Compute recipe outputs from inputs\n",
        "# TODO: Replace this part by your actual code that computes the output, as a Pandas dataframe\n",
        "# NB: DSS also supports other kinds of APIs for reading and writing data. Please see doc.\n",
        "\n",
        "lufthansa_no_url_df \u003d tweet_lufthansa_prepared_df # For this sample code, simply copy input to output\n",
        "\n",
        "\n",
        "# Write recipe outputs\n",
        "lufthansa_no_url \u003d dataiku.Dataset(\"lufthansa_no_url\")\n",
        "lufthansa_no_url.write_with_schema(lufthansa_no_url_df)"
      ],
      "outputs": []
    }
  ]
}