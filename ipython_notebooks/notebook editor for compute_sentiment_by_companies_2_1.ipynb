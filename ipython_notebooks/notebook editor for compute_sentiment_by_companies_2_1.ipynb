{
 "cells": [
  {
   "cell_type": "code",
   "execution_count": 5,
   "metadata": {},
   "outputs": [],
   "source": [
    "# -*- coding: utf-8 -*-\n",
    "import dataiku\n",
    "import pandas as pd, numpy as np\n",
    "from dataiku import pandasutils as pdu"
   ]
  },
  {
   "cell_type": "code",
   "execution_count": 6,
   "metadata": {},
   "outputs": [],
   "source": [
    "import plotly\n",
    "import plotly.express as px\n",
    "import plotly.offline as py\n",
    "import plotly.graph_objs as go\n",
    "import os"
   ]
  },
  {
   "cell_type": "code",
   "execution_count": 7,
   "metadata": {},
   "outputs": [],
   "source": [
    "# Read recipe inputs\n",
    "aspects_grouped = dataiku.Dataset(\"tweepy_aspect_sentiment_categorised\")\n",
    "df = aspects_grouped.get_dataframe()"
   ]
  },
  {
   "cell_type": "code",
   "execution_count": 8,
   "metadata": {},
   "outputs": [],
   "source": [
    "def weighted_ave(x):\n",
    "    d = {}\n",
    "    d['weighted_ave_nltk'] = (x[\"mean_polarity_nltk\"] * x[\"count\"]).sum() / x[\"count\"].sum()\n",
    "    d['weighted_ave_tb'] = (x[\"mean_polarity_textblob\"] * x[\"count\"]).sum() / x[\"count\"].sum()\n",
    "    return pd.Series(d, index=['weighted_ave_nltk', 'weighted_ave_tb'])"
   ]
  },
  {
   "cell_type": "code",
   "execution_count": 9,
   "metadata": {},
   "outputs": [
    {
     "name": "stderr",
     "output_type": "stream",
     "text": [
      "/Users/mmiyazaki/dataiku/Design/DATA_DIR/code-envs/python/python36/lib/python3.6/site-packages/pandas/core/groupby/groupby.py:4315: FutureWarning:\n",
      "\n",
      "arrays to stack must be passed as a \"sequence\" type such as list or tuple. Support for non-sequence iterables such as generators is deprecated as of NumPy 1.16 and will raise an error in the future.\n",
      "\n"
     ]
    }
   ],
   "source": [
    "df_grouped = df.groupby([\"product_id\", \"group\"]).apply(weighted_ave).reset_index()\n",
    "df_clustered = df.groupby([\"product_id\", \"k_means_clusters\"]).apply(weighted_ave).reset_index()"
   ]
  },
  {
   "cell_type": "code",
   "execution_count": 10,
   "metadata": {},
   "outputs": [],
   "source": [
    "# Compute recipe outputs from inputs\n",
    "# TODO: Replace this part by your actual code that computes the output, as a Pandas dataframe\n",
    "# NB: DSS also supports other kinds of APIs for reading and writing data. Please see doc.\n",
    "\n",
    "sentiment_by_companies_df = df_grouped # For this sample code, simply copy input to output"
   ]
  },
  {
   "cell_type": "code",
   "execution_count": 11,
   "metadata": {},
   "outputs": [
    {
     "name": "stdout",
     "output_type": "stream",
     "text": [
      "34 rows successfully written (zfYc7w0RZm)\n",
      "28 rows successfully written (FKqrZdvo6U)\n"
     ]
    }
   ],
   "source": [
    "# Write recipe outputs\n",
    "sentiment_by_companies = dataiku.Dataset(\"tweepy_analysis_by_companies\")\n",
    "sentiment_by_companies.write_with_schema(df_grouped)\n",
    "\n",
    "KM_analysis_by_companies = dataiku.Dataset(\"tweepy_KM\")\n",
    "KM_analysis_by_companies.write_with_schema(df_clustered)"
   ]
  },
  {
   "cell_type": "code",
   "execution_count": 12,
   "metadata": {},
   "outputs": [],
   "source": [
    "from dataiku import insights\n",
    "for name in df_grouped.product_id.unique():\n",
    "    df_sub = df_grouped[df_grouped.product_id == name]\n",
    "    groups = df_sub.group.unique()\n",
    "    fig = go.Figure(data=[\n",
    "        go.Bar(name='NLTK', x=groups, y=df_sub.weighted_ave_nltk),\n",
    "        go.Bar(name='TextBlob', x=groups, y=df_sub.weighted_ave_tb)])\n",
    "    # Change the bar mode\n",
    "    fig.update_layout(barmode='group', title_text=name)\n",
    "\n",
    "    insights_name = name.replace(\" \", \"_\") + \"_grouped\"\n",
    "    folder_path = dataiku.Folder(\"tweepy_plots\").get_path()\n",
    "    fig_path = os.path.join(folder_path, insights_name)\n",
    "    fig.write_html(fig_path+\".html\")\n",
    "    insights.save_plotly(insights_name, fig)"
   ]
  }
 ],
 "metadata": {
  "associatedRecipe": "compute_sentiment_by_companies_2_1",
  "creator": "admin",
  "customFields": {},
  "kernelspec": {
   "display_name": "Python (env python36)",
   "language": "python",
   "name": "py-dku-venv-python36"
  },
  "language_info": {
   "codemirror_mode": {
    "name": "ipython",
    "version": 3
   },
   "file_extension": ".py",
   "mimetype": "text/x-python",
   "name": "python",
   "nbconvert_exporter": "python",
   "pygments_lexer": "ipython3",
   "version": "3.6.8"
  },
  "tags": [
   "recipe-editor"
  ]
 },
 "nbformat": 4,
 "nbformat_minor": 1
}
