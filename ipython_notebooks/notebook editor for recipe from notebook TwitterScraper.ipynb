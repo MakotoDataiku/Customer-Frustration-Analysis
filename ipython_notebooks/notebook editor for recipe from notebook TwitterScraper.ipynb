{
  "metadata": {
    "creator": "admin",
    "customFields": {},
    "kernelspec": {
      "display_name": "Python (env python36)",
      "language": "python",
      "name": "py-dku-venv-python36"
    },
    "language_info": {
      "codemirror_mode": {
        "name": "ipython",
        "version": 3
      },
      "file_extension": ".py",
      "mimetype": "text/x-python",
      "name": "python",
      "nbconvert_exporter": "python",
      "pygments_lexer": "ipython3",
      "version": "3.6.8"
    },
    "tags": [
      "deleted-recipe-editor"
    ]
  },
  "nbformat": 4,
  "nbformat_minor": 1,
  "cells": [
    {
      "execution_count": 9,
      "cell_type": "code",
      "metadata": {},
      "source": [
        "%pylab inline"
      ],
      "outputs": [
        {
          "name": "stdout",
          "output_type": "stream",
          "text": [
            "Populating the interactive namespace from numpy and matplotlib\n"
          ]
        }
      ]
    },
    {
      "execution_count": 10,
      "cell_type": "code",
      "metadata": {},
      "source": [
        "import dataiku\n",
        "from dataiku import pandasutils as pdu\n",
        "import pandas as pd\n",
        "from twitterscraper import query_tweets\n",
        "import datetime"
      ],
      "outputs": []
    },
    {
      "execution_count": 11,
      "cell_type": "code",
      "metadata": {},
      "source": [
        "cols \u003d [\u0027screen_name\u0027, \u0027username\u0027, \u0027user_id\u0027, \u0027tweet_id\u0027, \u0027tweet_url\u0027, \u0027timestamp\u0027,\n",
        "           \u0027timestamp_epochs\u0027, \u0027text\u0027, \u0027text_html\u0027, \u0027links\u0027, \u0027hashtags\u0027, \u0027has_media\u0027,\n",
        "           \u0027img_urls\u0027, \u0027video_url\u0027, \u0027likes\u0027, \u0027retweets\u0027, \u0027replies\u0027, \u0027is_replied\u0027, \u0027is_reply_to\u0027,\n",
        "           \u0027parent_tweet_id\u0027, \u0027reply_to_users\u0027]"
      ],
      "outputs": []
    },
    {
      "execution_count": 12,
      "cell_type": "code",
      "metadata": {},
      "source": [
        "df \u003d pd.DataFrame(columns\u003dcols)"
      ],
      "outputs": []
    },
    {
      "execution_count": 14,
      "cell_type": "code",
      "metadata": {},
      "source": [
        "datetime.date.today() - datetime.timedelta(4)"
      ],
      "outputs": [
        {
          "data": {
            "text/plain": [
              "datetime.date(2020, 3, 9)"
            ]
          },
          "execution_count": 14,
          "metadata": {},
          "output_type": "execute_result"
        }
      ]
    },
    {
      "execution_count": 0,
      "cell_type": "code",
      "metadata": {},
      "source": [
        "company \u003d \u0027lufthansa\u0027\n",
        "enddate \u003d datetime.date.today()\n",
        "begindate \u003d enddate - datetime.timedelta(4)\n",
        "list_of_tweets \u003d query_tweets(company,\n",
        "                          begindate \u003d begindate,\n",
        "                          enddate \u003d enddate,\n",
        "                          poolsize \u003d 10)"
      ],
      "outputs": []
    },
    {
      "execution_count": 0,
      "cell_type": "code",
      "metadata": {},
      "source": [
        "for row, tweet in enumerate(list_of_tweets):\n",
        "    for d in tweet.__dict__:\n",
        "        df.loc[row,\u0027screen_name\u0027] \u003d tweet.screen_name\n",
        "        df.loc[row,\u0027username\u0027] \u003d tweet.username\n",
        "        df.loc[row,\u0027user_id\u0027] \u003d tweet.user_id\n",
        "        df.loc[row,\u0027tweet_id\u0027] \u003d tweet.tweet_id\n",
        "        df.loc[row,\u0027tweet_url\u0027] \u003d tweet.tweet_url\n",
        "        df.loc[row,\u0027timestamp\u0027] \u003d tweet.timestamp\n",
        "        df.loc[row,\u0027timestamp_epochs\u0027] \u003d tweet.timestamp_epochs\n",
        "        df.loc[row,\u0027text\u0027] \u003d tweet.text\n",
        "        df.loc[row,\u0027text_html\u0027] \u003d tweet.text_html\n",
        "        df.loc[row,\u0027links\u0027] \u003d tweet.links\n",
        "        df.loc[row,\u0027hashtags\u0027] \u003d tweet.hashtags\n",
        "        df.loc[row,\u0027has_media\u0027] \u003d tweet.has_media\n",
        "        df.loc[row,\u0027img_urls\u0027] \u003d tweet.img_urls\n",
        "        df.loc[row,\u0027video_url\u0027] \u003d tweet.video_url\n",
        "        df.loc[row,\u0027likes\u0027] \u003d tweet.likes\n",
        "        df.loc[row,\u0027retweets\u0027] \u003d tweet.retweets\n",
        "        df.loc[row,\u0027replies\u0027] \u003d tweet.replies\n",
        "        df.loc[row,\u0027is_replied\u0027] \u003d tweet.is_replied\n",
        "        df.loc[row,\u0027is_reply_to\u0027] \u003d tweet.is_reply_to\n",
        "        df.loc[row,\u0027parent_tweet_id\u0027] \u003d tweet.parent_tweet_id\n",
        "        df.loc[row,\u0027reply_to_users\u0027] \u003d tweet.reply_to_users"
      ],
      "outputs": []
    },
    {
      "execution_count": 0,
      "cell_type": "code",
      "metadata": {},
      "source": [
        "# Recipe outputs\n",
        "tweet_lufthansa \u003d dataiku.Dataset(\"tweet_lufthansa\")\n",
        "tweet_lufthansa.write_with_schema(df)"
      ],
      "outputs": []
    }
  ]
}