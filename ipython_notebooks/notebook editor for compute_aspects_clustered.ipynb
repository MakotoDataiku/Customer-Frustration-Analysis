{
 "cells": [
  {
   "cell_type": "code",
   "execution_count": 1,
   "metadata": {},
   "outputs": [],
   "source": [
    "# -*- coding: utf-8 -*-\n",
    "import dataiku\n",
    "import pandas as pd, numpy as np\n",
    "from dataiku import pandasutils as pdu"
   ]
  },
  {
   "cell_type": "code",
   "execution_count": 2,
   "metadata": {},
   "outputs": [],
   "source": [
    "# Read recipe inputs\n",
    "aspect_sentiment_pairs = dataiku.Folder(\"aspect_sentiment_pairs\")\n",
    "json_path = aspect_sentiment_pairs.file_path(filename='reviews_aspect_mapping.json')"
   ]
  },
  {
   "cell_type": "code",
   "execution_count": 3,
   "metadata": {},
   "outputs": [],
   "source": [
    "import json\n",
    "import spacy\n",
    "from time import time"
   ]
  },
  {
   "cell_type": "code",
   "execution_count": 4,
   "metadata": {},
   "outputs": [],
   "source": [
    "from run_extraction.init_spacy import init_spacy"
   ]
  },
  {
   "cell_type": "code",
   "execution_count": 5,
   "metadata": {},
   "outputs": [],
   "source": [
    "from aspect_clustering.update_reviews_data import update_reviews_data"
   ]
  },
  {
   "cell_type": "code",
   "execution_count": 6,
   "metadata": {},
   "outputs": [
    {
     "name": "stdout",
     "output_type": "stream",
     "text": [
      "\n",
      "Loading spaCy Model....\n",
      "spaCy successfully loaded\n",
      "----------------***----------------\n",
      "\n",
      "Loading aspect pairs file\n",
      "Finished loading aspect pairs!!\n",
      "\n",
      "----------------***----------------\n",
      "Total number of unique products in this category: 6\n",
      "prod_id is  Lufthansa\n",
      "Found 510 unique aspects for this product\n",
      "Running k-means clustering...\n",
      "length of updated reviews: 1196\n",
      "updated reviews added\n",
      "prod_id is  Ryanair\n",
      "Found 629 unique aspects for this product\n",
      "Running k-means clustering...\n",
      "length of updated reviews: 2032\n",
      "updated reviews added\n",
      "prod_id is  Emirates\n",
      "Found 1329 unique aspects for this product\n",
      "Running k-means clustering...\n",
      "length of updated reviews: 4621\n",
      "updated reviews added\n",
      "prod_id is  United Airlines\n",
      "Found 1461 unique aspects for this product\n",
      "Running k-means clustering...\n",
      "length of updated reviews: 4621\n",
      "updated reviews added\n",
      "prod_id is  Delta Air Lines\n",
      "Found 1462 unique aspects for this product\n",
      "Running k-means clustering...\n",
      "length of updated reviews: 4621\n",
      "updated reviews added\n",
      "prod_id is  Air France\n",
      "Found 1501 unique aspects for this product\n",
      "Running k-means clustering...\n",
      "length of updated reviews: 4621\n",
      "updated reviews added\n",
      "There are 6110 nouns extracted\n",
      "Time for loading spacy: 1e+01s\n",
      "Time for loading aspects json file: 0.12s\n",
      "Time for running aspect clustering: 2.3e+02s\n"
     ]
    }
   ],
   "source": [
    "time1 = time()\n",
    "model_path= dataiku.get_custom_variables()['model_path']\n",
    "nlp = init_spacy(model_path)\n",
    "time2 = time()\n",
    "print(\"----------------***----------------\")\n",
    "print(\"\\nLoading aspect pairs file\")\n",
    "with open(json_path, 'r') as fobj:\n",
    "    reviews_data = json.load(fobj)\n",
    "print(\"Finished loading aspect pairs!!\\n\")\n",
    "print(\"----------------***----------------\")\n",
    "time3 = time()\n",
    "# update_reviews_data(reviews_data, nlp)\n",
    "aspects_clustered_df, aspects_grouped_df = update_reviews_data(reviews_data, nlp)\n",
    "# aspect_json_encoding.run(\"data/processed/model_results.json\", \"data/processed/model_results_encoding.json\")\n",
    "time4 = time()\n",
    "print(\"Time for loading spacy: {0:.2}s\".format(time2-time1))\n",
    "print(\"Time for loading aspects json file: {0:.2}s\".format(time3-time2))\n",
    "print(\"Time for running aspect clustering: {0:.2}s\".format(time4-time3))"
   ]
  },
  {
   "cell_type": "code",
   "execution_count": 7,
   "metadata": {},
   "outputs": [
    {
     "name": "stdout",
     "output_type": "stream",
     "text": [
      "27418 rows successfully written (vRrzhSayQh)\n"
     ]
    }
   ],
   "source": [
    "# Write recipe outputs\n",
    "aspects_clustered = dataiku.Dataset(\"aspects_clustered\")\n",
    "aspects_clustered.write_with_schema(aspects_clustered_df)"
   ]
  },
  {
   "cell_type": "code",
   "execution_count": 8,
   "metadata": {},
   "outputs": [
    {
     "name": "stdout",
     "output_type": "stream",
     "text": [
      "6110 rows successfully written (h16Dj3w72U)\n"
     ]
    }
   ],
   "source": [
    "# Write recipe outputs\n",
    "aspects_grouped = dataiku.Dataset(\"aspects_grouped\")\n",
    "aspects_grouped.write_with_schema(aspects_grouped_df)"
   ]
  },
  {
   "cell_type": "code",
   "execution_count": null,
   "metadata": {},
   "outputs": [],
   "source": []
  }
 ],
 "metadata": {
  "associatedRecipe": "compute_aspects_clustered",
  "creator": "admin",
  "customFields": {},
  "kernelspec": {
   "display_name": "Python (env python36)",
   "language": "python",
   "name": "py-dku-venv-python36"
  },
  "language_info": {
   "codemirror_mode": {
    "name": "ipython",
    "version": 3
   },
   "file_extension": ".py",
   "mimetype": "text/x-python",
   "name": "python",
   "nbconvert_exporter": "python",
   "pygments_lexer": "ipython3",
   "version": "3.6.8"
  },
  "tags": [
   "recipe-editor"
  ]
 },
 "nbformat": 4,
 "nbformat_minor": 1
}
