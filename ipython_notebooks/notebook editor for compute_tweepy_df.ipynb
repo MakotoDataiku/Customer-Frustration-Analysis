{
  "metadata": {
    "kernelspec": {
      "display_name": "Python (env python36)",
      "language": "python",
      "name": "py-dku-venv-python36"
    },
    "creator": "admin",
    "tags": [
      "deleted-recipe-editor"
    ],
    "customFields": {}
  },
  "nbformat": 4,
  "nbformat_minor": 0,
  "cells": [
    {
      "execution_count": 0,
      "cell_type": "code",
      "metadata": {},
      "source": [
        "# -*- coding: utf-8 -*-\n",
        "import dataiku\n",
        "import pandas as pd, numpy as np\n",
        "from dataiku import pandasutils as pdu\n",
        "\n",
        "# Read recipe inputs\n",
        "tweepy_REST_API \u003d dataiku.Folder(\"2o8aWzsk\")\n",
        "tweepy_REST_API_info \u003d tweepy_REST_API.get_info()\n",
        "\n",
        "\n",
        "# Compute recipe outputs\n",
        "# TODO: Write here your actual code that computes the outputs\n",
        "# NB: DSS supports several kinds of APIs for reading and writing data. Please see doc.\n",
        "\n",
        "tweepy_df_df \u003d ... # Compute a Pandas dataframe to write into tweepy_df\n",
        "\n",
        "\n",
        "# Write recipe outputs\n",
        "tweepy_df \u003d dataiku.Dataset(\"tweepy_df\")\n",
        "tweepy_df.write_with_schema(tweepy_df_df)"
      ],
      "outputs": []
    }
  ]
}