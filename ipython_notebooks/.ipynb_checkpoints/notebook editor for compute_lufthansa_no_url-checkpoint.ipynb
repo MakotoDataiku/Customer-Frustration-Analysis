{
 "cells": [
  {
   "cell_type": "code",
   "execution_count": 0,
   "metadata": {},
   "outputs": [],
   "source": [
    "# -*- coding: utf-8 -*-\n",
    "import dataiku\n",
    "import pandas as pd, numpy as np\n",
    "from dataiku import pandasutils as pdu\n",
    "\n",
    "# Read recipe inputs\n",
    "tweet_lufthansa_prepared = dataiku.Dataset(\"tweet_lufthansa_prepared\")\n",
    "tweet_lufthansa_prepared_df = tweet_lufthansa_prepared.get_dataframe()\n",
    "\n",
    "\n"
   ]
  },
  {
   "cell_type": "code",
   "execution_count": null,
   "metadata": {},
   "outputs": [],
   "source": [
    "# Modify the process function to fit your needs\n",
    "def process(row):\n",
    "    # In 'cell' mode, the process function must return\n",
    "    # a single cell value for each row,\n",
    "    # which will be affected to a new column.\n",
    "    # The 'row' argument is a dictionary of columns of the row\n",
    "    # row['links'] = row['links'].tolist()\n",
    "    i = 1\n",
    "    for link in row['links']:\n",
    "        if i == 1:\n",
    "            row['link1'] = link\n",
    "        elif i == 2:\n",
    "            row['link2'] = link\n",
    "        elif i == 3:\n",
    "            row['link3'] = link\n",
    "        else:\n",
    "            break\n",
    "        i += 1\n",
    "    return row"
   ]
  },
  {
   "cell_type": "code",
   "execution_count": null,
   "metadata": {},
   "outputs": [],
   "source": [
    "# Compute recipe outputs from inputs\n",
    "# TODO: Replace this part by your actual code that computes the output, as a Pandas dataframe\n",
    "# NB: DSS also supports other kinds of APIs for reading and writing data. Please see doc.\n",
    "\n",
    "lufthansa_no_url_df = tweet_lufthansa_prepared_df # For this sample code, simply copy input to output\n",
    "\n",
    "\n",
    "# Write recipe outputs\n",
    "lufthansa_no_url = dataiku.Dataset(\"lufthansa_no_url\")\n",
    "lufthansa_no_url.write_with_schema(lufthansa_no_url_df)"
   ]
  }
 ],
 "metadata": {
  "associatedRecipe": "compute_lufthansa_no_url",
  "creator": "admin",
  "customFields": {},
  "kernelspec": {
   "display_name": "Python 2",
   "language": "python",
   "name": "python2"
  },
  "language_info": {
   "codemirror_mode": {
    "name": "ipython",
    "version": 2
   },
   "file_extension": ".py",
   "mimetype": "text/x-python",
   "name": "python",
   "nbconvert_exporter": "python",
   "pygments_lexer": "ipython2",
   "version": "2.7.16"
  },
  "tags": [
   "recipe-editor"
  ]
 },
 "nbformat": 4,
 "nbformat_minor": 1
}
