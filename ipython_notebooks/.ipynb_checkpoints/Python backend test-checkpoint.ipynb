{
 "cells": [
  {
   "cell_type": "code",
   "execution_count": 1,
   "metadata": {},
   "outputs": [
    {
     "name": "stdout",
     "output_type": "stream",
     "text": [
      "Populating the interactive namespace from numpy and matplotlib\n"
     ]
    }
   ],
   "source": [
    "%pylab inline"
   ]
  },
  {
   "cell_type": "code",
   "execution_count": 2,
   "metadata": {},
   "outputs": [],
   "source": [
    "import dataiku\n",
    "import pandas as pd\n",
    "import json\n",
    "import dataiku\n",
    "import subprocess\n",
    "from flask import send_file\n",
    "from dataiku.scenario import Scenario\n",
    "\n",
    "# To Edit:\n",
    "OUTPUT_DATASET = \"Cat_analysis_by_companies\"\n",
    "SCENARIO_ID = 'scraping_tweets'\n",
    "\n",
    "PROJECT_KEY = dataiku.get_custom_variables()[\"projectKey\"]\n",
    "client = dataiku.api_client()\n",
    "p = client.get_project(PROJECT_KEY)"
   ]
  },
  {
   "cell_type": "code",
   "execution_count": 0,
   "metadata": {},
   "outputs": [],
   "source": []
  }
 ],
 "metadata": {
  "creator": "admin",
  "customFields": {},
  "kernelspec": {
   "display_name": "Python (env python36)",
   "language": "python",
   "name": "py-dku-venv-python36"
  },
  "language_info": {
   "codemirror_mode": {
    "name": "ipython",
    "version": 3
   },
   "file_extension": ".py",
   "mimetype": "text/x-python",
   "name": "python",
   "nbconvert_exporter": "python",
   "pygments_lexer": "ipython3",
   "version": "3.6.8"
  },
  "tags": []
 },
 "nbformat": 4,
 "nbformat_minor": 1
}
