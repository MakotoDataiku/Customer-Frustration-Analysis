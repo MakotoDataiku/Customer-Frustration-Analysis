{
 "cells": [
  {
   "cell_type": "code",
   "execution_count": 1,
   "metadata": {},
   "outputs": [],
   "source": [
    "# -*- coding: utf-8 -*-\n",
    "import dataiku\n",
    "import pandas as pd, numpy as np\n",
    "from dataiku import pandasutils as pdu\n",
    "import re"
   ]
  },
  {
   "cell_type": "code",
   "execution_count": 2,
   "metadata": {},
   "outputs": [
    {
     "name": "stderr",
     "output_type": "stream",
     "text": [
      "/Users/mmiyazaki/dataiku/Design/DATA_DIR/code-envs/python/python36/lib/python3.6/site-packages/IPython/core/interactiveshell.py:3254: DtypeWarning: Columns (8,11,12,13,15,16) have mixed types. Specify dtype option on import or set low_memory=False.\n",
      "  if (await self.run_code(code, result,  async_=asy)):\n"
     ]
    }
   ],
   "source": [
    "# Read recipe inputs\n",
    "tweepy_stacked = dataiku.Dataset(\"tweepy_stacked\")\n",
    "df = tweepy_stacked.get_dataframe()"
   ]
  },
  {
   "cell_type": "code",
   "execution_count": 4,
   "metadata": {},
   "outputs": [
    {
     "data": {
      "text/plain": [
       "0     Coronavirus aid: Air France 'must cut domestic...\n",
       "1     Update: European Commission has approved €7 bi...\n",
       "2     French government bailout for Air France is co...\n",
       "3     Have seen papers linking harsher #COVID19 outb...\n",
       "4     ✈️ #Travel Air France makes masks compulsory f...\n",
       "5     Coronavirus aid: Air France 'must cut domestic...\n",
       "6     Air France ordered to curb competition with ra...\n",
       "7     Air France to make passengers wear masks in fl...\n",
       "8     @jasonhickel @dhh There's a few details that m...\n",
       "9     This is the best news of the day.  Air France ...\n",
       "10    Air France 'must cut domestic flights to get a...\n",
       "11    Hmm 🤔 so now we have Germany bailing out Lufth...\n",
       "12    EU approves €7 billion state support for Air F...\n",
       "13    Swiss Air Ambulance AG Bombardier Challenger 6...\n",
       "14    Coronavirus aid: Air France 'must cut domestic...\n",
       "15    Watch \"Ryanair boss will not be happy with Air...\n",
       "16    @SpeedBird_NCL BBC report lacks information. I...\n",
       "17    Word of caution here! This concerns only SOME ...\n",
       "18    @jasonhickel Word of caution here! This concer...\n",
       "19    France banning short-haul domestic air travel ...\n",
       "Name: text, dtype: object"
      ]
     },
     "execution_count": 4,
     "metadata": {},
     "output_type": "execute_result"
    }
   ],
   "source": [
    "df.text.head(20)"
   ]
  },
  {
   "cell_type": "code",
   "execution_count": null,
   "metadata": {},
   "outputs": [],
   "source": []
  },
  {
   "cell_type": "code",
   "execution_count": null,
   "metadata": {},
   "outputs": [],
   "source": []
  },
  {
   "cell_type": "code",
   "execution_count": null,
   "metadata": {},
   "outputs": [],
   "source": []
  },
  {
   "cell_type": "code",
   "execution_count": 0,
   "metadata": {},
   "outputs": [],
   "source": [
    "# Compute recipe outputs from inputs\n",
    "# TODO: Replace this part by your actual code that computes the output, as a Pandas dataframe\n",
    "# NB: DSS also supports other kinds of APIs for reading and writing data. Please see doc.\n",
    "\n",
    "url_removed_df = tweepy_stacked_df # For this sample code, simply copy input to output\n",
    "\n",
    "\n",
    "# Write recipe outputs\n",
    "url_removed = dataiku.Dataset(\"URL_removed\")\n",
    "url_removed.write_with_schema(url_removed_df)"
   ]
  }
 ],
 "metadata": {
  "associatedRecipe": "compute_URL_removed",
  "creator": "admin",
  "customFields": {},
  "kernelspec": {
   "display_name": "Python (env python36)",
   "language": "python",
   "name": "py-dku-venv-python36"
  },
  "language_info": {
   "codemirror_mode": {
    "name": "ipython",
    "version": 3
   },
   "file_extension": ".py",
   "mimetype": "text/x-python",
   "name": "python",
   "nbconvert_exporter": "python",
   "pygments_lexer": "ipython3",
   "version": "3.6.8"
  },
  "tags": [
   "recipe-editor"
  ]
 },
 "nbformat": 4,
 "nbformat_minor": 1
}
