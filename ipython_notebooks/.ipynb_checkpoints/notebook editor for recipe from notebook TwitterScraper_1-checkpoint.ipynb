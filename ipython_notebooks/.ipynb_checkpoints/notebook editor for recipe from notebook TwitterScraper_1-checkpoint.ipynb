{
 "cells": [
  {
   "cell_type": "code",
   "execution_count": 1,
   "metadata": {},
   "outputs": [
    {
     "name": "stdout",
     "output_type": "stream",
     "text": [
      "Populating the interactive namespace from numpy and matplotlib\n"
     ]
    }
   ],
   "source": [
    "%pylab inline"
   ]
  },
  {
   "cell_type": "code",
   "execution_count": 2,
   "metadata": {},
   "outputs": [
    {
     "name": "stderr",
     "output_type": "stream",
     "text": [
      "INFO: {'User-Agent': 'Mozilla/5.0 (Windows; U; Windows NT 6.1; rv:2.2) Gecko/20110201'}\n"
     ]
    }
   ],
   "source": [
    "import dataiku\n",
    "from dataiku import pandasutils as pdu\n",
    "import pandas as pd\n",
    "from twitterscraper import query_tweets\n",
    "import datetime"
   ]
  },
  {
   "cell_type": "code",
   "execution_count": 3,
   "metadata": {},
   "outputs": [],
   "source": [
    "cols = ['screen_name', 'username', 'user_id', 'tweet_id', 'tweet_url', 'timestamp',\n",
    "           'timestamp_epochs', 'text', 'text_html', 'links', 'hashtags', 'has_media',\n",
    "           'img_urls', 'video_url', 'likes', 'retweets', 'replies', 'is_replied', 'is_reply_to',\n",
    "           'parent_tweet_id', 'reply_to_users']"
   ]
  },
  {
   "cell_type": "code",
   "execution_count": 4,
   "metadata": {},
   "outputs": [],
   "source": [
    "df = pd.DataFrame(columns=cols)"
   ]
  },
  {
   "cell_type": "code",
   "execution_count": 0,
   "metadata": {},
   "outputs": [],
   "source": [
    "company = dataiku.get_custom_variables()['company']\n",
    "enddate = datetime.date.today()\n",
    "begindate = enddate - datetime.timedelta(4)\n",
    "list_of_tweets = query_tweets(company,\n",
    "                              begindate = begindate,\n",
    "                              enddate = enddate,\n",
    "                              poolsize = 10,\n",
    "                              lang = 'en')"
   ]
  },
  {
   "cell_type": "code",
   "execution_count": 0,
   "metadata": {},
   "outputs": [],
   "source": [
    "for row, tweet in enumerate(list_of_tweets):\n",
    "    for d in tweet.__dict__:\n",
    "        df.loc[row,'screen_name'] = tweet.screen_name\n",
    "        df.loc[row,'username'] = tweet.username\n",
    "        df.loc[row,'user_id'] = tweet.user_id\n",
    "        df.loc[row,'tweet_id'] = tweet.tweet_id\n",
    "        df.loc[row,'tweet_url'] = tweet.tweet_url\n",
    "        df.loc[row,'timestamp'] = tweet.timestamp\n",
    "        df.loc[row,'timestamp_epochs'] = tweet.timestamp_epochs\n",
    "        df.loc[row,'text'] = tweet.text\n",
    "        df.loc[row,'text_html'] = tweet.text_html\n",
    "        df.loc[row,'links'] = tweet.links\n",
    "        df.loc[row,'hashtags'] = tweet.hashtags\n",
    "        df.loc[row,'has_media'] = tweet.has_media\n",
    "        df.loc[row,'img_urls'] = tweet.img_urls\n",
    "        df.loc[row,'video_url'] = tweet.video_url\n",
    "        df.loc[row,'likes'] = tweet.likes\n",
    "        df.loc[row,'retweets'] = tweet.retweets\n",
    "        df.loc[row,'replies'] = tweet.replies\n",
    "        df.loc[row,'is_replied'] = tweet.is_replied\n",
    "        df.loc[row,'is_reply_to'] = tweet.is_reply_to\n",
    "        df.loc[row,'parent_tweet_id'] = tweet.parent_tweet_id\n",
    "        df.loc[row,'reply_to_users'] = tweet.reply_to_users"
   ]
  },
  {
   "cell_type": "code",
   "execution_count": 0,
   "metadata": {},
   "outputs": [],
   "source": [
    "# Recipe outputs\n",
    "tweets = dataiku.Dataset(\"tweets\")\n",
    "tweets.write_with_schema(df)"
   ]
  }
 ],
 "metadata": {
  "associatedRecipe": "recipe from notebook TwitterScraper_1",
  "creator": "admin",
  "customFields": {},
  "kernelspec": {
   "display_name": "Python (env python36)",
   "language": "python",
   "name": "py-dku-venv-python36"
  },
  "language_info": {
   "codemirror_mode": {
    "name": "ipython",
    "version": 3
   },
   "file_extension": ".py",
   "mimetype": "text/x-python",
   "name": "python",
   "nbconvert_exporter": "python",
   "pygments_lexer": "ipython3",
   "version": "3.6.8"
  },
  "tags": [
   "recipe-editor"
  ]
 },
 "nbformat": 4,
 "nbformat_minor": 1
}
